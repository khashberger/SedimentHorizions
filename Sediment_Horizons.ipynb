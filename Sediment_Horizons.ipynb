{
 "cells": [
  {
   "cell_type": "code",
   "execution_count": 1,
   "metadata": {
    "id": "ZHIIuQSTx5d0"
   },
   "outputs": [],
   "source": [
    "from vedo import printc, dataurl, settings, delaunay2d, Line, Lines, Points, Plotter"
   ]
  },
  {
   "cell_type": "code",
   "execution_count": 2,
   "metadata": {
    "id": "7cy1I4k8x91W"
   },
   "outputs": [],
   "source": [
    "import pandas as pd"
   ]
  },
  {
   "cell_type": "code",
   "execution_count": 3,
   "metadata": {
    "id": "6TT05h27yAWs"
   },
   "outputs": [],
   "source": [
    "settings.use_depth_peeling = True"
   ]
  },
  {
   "cell_type": "code",
   "execution_count": 4,
   "metadata": {
    "id": "Jk47_-yNyCW8"
   },
   "outputs": [],
   "source": [
    "# Set url for importing files from GitHub\n",
    "url = \"https://raw.githubusercontent.com/khashberger/SedimentHorizions/main/\""
   ]
  },
  {
   "cell_type": "code",
   "execution_count": 5,
   "metadata": {
    "id": "meT0hrxbyT6d"
   },
   "outputs": [],
   "source": [
    "# pull in files\n",
    "topsoil   = pd.read_csv(url+\"topsoil_UTM.csv\")\n",
    "clay = pd.read_csv(url+\"clayey_sand_UTM.csv\")\n",
    "fill = pd.read_csv(url+\"fill_UTM.csv\")\n",
    "sandy_silt = pd.read_csv(url+\"sandy_silt_UTM.csv\")\n",
    "#silt = pd.read_csv(url+\"Silt_top.csv\") #not enough data points to create a mesh\n",
    "silty_sand = pd.read_csv(url+\"silty_sand_UTM.csv\")\n",
    "#gravel = pd.read_csv(url+\"gravellySand_top.csv\") #not enough data points to create a mesh\n",
    "#sand = pd.read_csv(url+\"sand_top.csv\") #not enough data points to create a mesh\n",
    "well_top = pd.read_csv(url+\"well_top_UTM.csv\")\n",
    "well_bottom = pd.read_csv(url+\"well_bottom_UTM.csv\")\n",
    "land_surface = pd.read_csv(url+\"SurfaceData.csv\")"
   ]
  },
  {
   "cell_type": "code",
   "execution_count": 6,
   "metadata": {},
   "outputs": [],
   "source": [
    "# good to here, now for meshes and visualization"
   ]
  },
  {
   "cell_type": "code",
   "execution_count": 7,
   "metadata": {
    "id": "5zd_cULR02hw"
   },
   "outputs": [],
   "source": [
    "# create a mesh object from the 2D Delaunay triangulation of the point cloud\n",
    "landSurface = delaunay2d(land_surface.values)"
   ]
  },
  {
   "cell_type": "code",
   "execution_count": 8,
   "metadata": {
    "id": "e01Y3CT71RKx"
   },
   "outputs": [],
   "source": [
    "# color it by the elevation, use the z values of the mesh\n",
    "zvals = landSurface.points()[:, 2] #select all rows in column with index of 2\n",
    "landSurface.cmap(\"terrain\", zvals, vmin=100)\n",
    "landSurface.name = \"Land Surface\" # give the object a name"
   ]
  },
  {
   "cell_type": "code",
   "execution_count": 9,
   "metadata": {
    "id": "mMFBLusz2DBy"
   },
   "outputs": [],
   "source": [
    "# Mesh of top soil\n",
    "vertices_topsoil = delaunay2d(topsoil.values)\n",
    "vertices_topsoil.name = \"topsoil isosurface\""
   ]
  },
  {
   "cell_type": "code",
   "execution_count": 10,
   "metadata": {
    "id": "dg10bMhk21eH"
   },
   "outputs": [],
   "source": [
    "# Mesh of clay\n",
    "vertices_clay = delaunay2d(clay.values)\n",
    "vertices_clay.name = \"Clayey Sand Isosurface\""
   ]
  },
  {
   "cell_type": "code",
   "execution_count": 11,
   "metadata": {
    "id": "1yZtCtD323kn"
   },
   "outputs": [],
   "source": [
    "# Mesh of fill\n",
    "vertices_fill = delaunay2d(fill.values)\n",
    "vertices_fill.name = \"Fill Isosurface\""
   ]
  },
  {
   "cell_type": "code",
   "execution_count": 12,
   "metadata": {},
   "outputs": [],
   "source": [
    "# Mesh of Sandy Silt\n",
    "vertices_sandy_silt = delaunay2d(sandy_silt.values)\n",
    "vertices_sandy_silt.name = \"Sandy Silt Isosurface\""
   ]
  },
  {
   "cell_type": "code",
   "execution_count": 13,
   "metadata": {},
   "outputs": [],
   "source": [
    "# Mesh of silt\n",
    "#vertices_silt = delaunay2d(silt.values)\n",
    "#vertices_silt.name = \"Silt Isosurface\""
   ]
  },
  {
   "cell_type": "code",
   "execution_count": 14,
   "metadata": {},
   "outputs": [],
   "source": [
    "# Mesh of silty sand\n",
    "vertices_silty_sand = delaunay2d(silty_sand.values)\n",
    "vertices_silty_sand.name = \"Silty Sand Isosurface\""
   ]
  },
  {
   "cell_type": "code",
   "execution_count": 15,
   "metadata": {},
   "outputs": [],
   "source": [
    "# Mesh of gravelly sand\n",
    "#vertices_gravel = delaunay2d(gravel.values)\n",
    "#vertices_gravel.name = \"Gravelly Sand Isosurface\""
   ]
  },
  {
   "cell_type": "code",
   "execution_count": 16,
   "metadata": {},
   "outputs": [],
   "source": [
    "# Mesh of sand\n",
    "#vertices_sand = delaunay2d(sand.values)\n",
    "#vertices_sand.name = \"Sand Isosurface\""
   ]
  },
  {
   "cell_type": "code",
   "execution_count": 17,
   "metadata": {
    "id": "uY64z3Uz6Oqn"
   },
   "outputs": [],
   "source": [
    "# defining the start and end of the lines that will be representing the wellbores\n",
    "Wells = Lines(well_bottom[[\"X\", \"Y\", \"Z\"]].values, # start points\n",
    "              well_top[[\"X\", \"Y\", \"Z\"]].values, # end points\n",
    "              c=\"gray\", alpha=1, lw=3)\n",
    "Wells.name = \"Test Pit Locations\""
   ]
  },
  {
   "cell_type": "code",
   "execution_count": null,
   "metadata": {},
   "outputs": [],
   "source": [
    "# plot everything\n",
    "plt = Plotter(axes=dict(xtitle='km', ytitle='km', ztitle='km*1.5', yzgrid=False),\n",
    "              bg2='lb', size=(500,1500)) # screen size\n",
    "plt += landSurface.flag()                # this adds a flag when hoovering the mouse\n",
    "plt += landSurface.isolines(5).lw(1).c('k')\n",
    "plt += vertices_topsoil.c(\"orange\").opacity(0.4).flag()\n",
    "plt += vertices_clay.c(\"red\").opacity(0.7).flag()\n",
    "plt += vertices_fill.c(\"yellow\").opacity(0.6).flag()\n",
    "plt += vertices_sandy_silt.c(\"green\").opacity(0.8).flag()\n",
    "plt += vertices_silty_sand.c(\"blue\").opacity(0.4).flag()\n",
    "#plt += boundary.flag()\n",
    "plt += Wells.flag()\n",
    "for a in plt.actors:\n",
    "    # change scale to kilometers in x and y, but expand z scale by 1.5!\n",
    "    a.scale([0.001, 0.001, 0.001*1.5])\n",
    "plt.show(viewup=\"z\", zoom=1.2)"
   ]
  },
  {
   "cell_type": "code",
   "execution_count": null,
   "metadata": {},
   "outputs": [],
   "source": []
  }
 ],
 "metadata": {
  "colab": {
   "collapsed_sections": [],
   "provenance": []
  },
  "kernelspec": {
   "display_name": "Python 3 (ipykernel)",
   "language": "python",
   "name": "python3"
  },
  "language_info": {
   "codemirror_mode": {
    "name": "ipython",
    "version": 3
   },
   "file_extension": ".py",
   "mimetype": "text/x-python",
   "name": "python",
   "nbconvert_exporter": "python",
   "pygments_lexer": "ipython3",
   "version": "3.9.12"
  }
 },
 "nbformat": 4,
 "nbformat_minor": 1
}
